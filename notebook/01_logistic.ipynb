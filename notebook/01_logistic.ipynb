{
  "cells": [
    {
      "cell_type": "raw",
      "metadata": {
        "vscode": {
          "languageId": "raw"
        }
      },
      "source": [
        "# PyTorch 로지스틱 회귀 튜토리얼\n",
        "\n",
        "이 튜토리얼에서는 PyTorch를 사용하여 간단한 로지스틱 회귀 모델을 구현합니다.\n",
        "타이타닉 데이터셋을 사용하여 승객의 생존 여부를 예측해보겠습니다.\n",
        "\n",
        "## 주요 단계:\n",
        "1. 데이터 로드 및 전처리\n",
        "2. 로지스틱 회귀 모델 정의\n",
        "3. 모델 훈련 (피팅)\n",
        "4. 모델 평가 및 추론\n"
      ]
    },
    {
      "cell_type": "code",
      "execution_count": 8,
      "metadata": {},
      "outputs": [
        {
          "name": "stdout",
          "output_type": "stream",
          "text": [
            "=== PyTorch 로지스틱 회귀 튜토리얼 ===\n"
          ]
        }
      ],
      "source": [
        "# 필요한 라이브러리 임포트\n",
        "import torch\n",
        "import torch.nn as nn\n",
        "import torch.optim as optim\n",
        "import pandas as pd\n",
        "import numpy as np\n",
        "from sklearn.model_selection import train_test_split\n",
        "from sklearn.preprocessing import StandardScaler\n",
        "from sklearn.metrics import accuracy_score, classification_report\n",
        "import matplotlib.pyplot as plt\n",
        "import seaborn as sns\n",
        "\n",
        "# 환경변수 로드\n",
        "import os\n",
        "from dotenv import load_dotenv\n",
        "load_dotenv()\n",
        "\n",
        "print(\"=== PyTorch 로지스틱 회귀 튜토리얼 ===\")\n"
      ]
    },
    {
      "cell_type": "raw",
      "metadata": {
        "vscode": {
          "languageId": "raw"
        }
      },
      "source": [
        "## 1. 데이터 로드 및 전처리\n",
        "\n",
        "타이타닉 데이터셋을 로드하고 머신러닝에 사용할 수 있도록 전처리합니다.\n"
      ]
    },
    {
      "cell_type": "code",
      "execution_count": 9,
      "metadata": {},
      "outputs": [
        {
          "name": "stdout",
          "output_type": "stream",
          "text": [
            "1. 데이터 로드 중...\n",
            "데이터 로드 완료! 데이터 크기: (891, 12)\n",
            "컬럼: ['PassengerId', 'Survived', 'Pclass', 'Name', 'Sex', 'Age', 'SibSp', 'Parch', 'Ticket', 'Fare', 'Cabin', 'Embarked']\n",
            "\n",
            "데이터 미리보기:\n",
            "   PassengerId  Survived  Pclass  \\\n",
            "0            1         0       3   \n",
            "1            2         1       1   \n",
            "2            3         1       3   \n",
            "3            4         1       1   \n",
            "4            5         0       3   \n",
            "\n",
            "                                                Name     Sex   Age  SibSp  \\\n",
            "0                            Braund, Mr. Owen Harris    male  22.0      1   \n",
            "1  Cumings, Mrs. John Bradley (Florence Briggs Th...  female  38.0      1   \n",
            "2                             Heikkinen, Miss. Laina  female  26.0      0   \n",
            "3       Futrelle, Mrs. Jacques Heath (Lily May Peel)  female  35.0      1   \n",
            "4                           Allen, Mr. William Henry    male  35.0      0   \n",
            "\n",
            "   Parch            Ticket     Fare Cabin Embarked  \n",
            "0      0         A/5 21171   7.2500   NaN        S  \n",
            "1      0          PC 17599  71.2833   C85        C  \n",
            "2      0  STON/O2. 3101282   7.9250   NaN        S  \n",
            "3      0            113803  53.1000  C123        S  \n",
            "4      0            373450   8.0500   NaN        S  \n",
            "\n",
            "데이터 정보:\n",
            "<class 'pandas.core.frame.DataFrame'>\n",
            "RangeIndex: 891 entries, 0 to 890\n",
            "Data columns (total 12 columns):\n",
            " #   Column       Non-Null Count  Dtype  \n",
            "---  ------       --------------  -----  \n",
            " 0   PassengerId  891 non-null    int64  \n",
            " 1   Survived     891 non-null    int64  \n",
            " 2   Pclass       891 non-null    int64  \n",
            " 3   Name         891 non-null    object \n",
            " 4   Sex          891 non-null    object \n",
            " 5   Age          714 non-null    float64\n",
            " 6   SibSp        891 non-null    int64  \n",
            " 7   Parch        891 non-null    int64  \n",
            " 8   Ticket       891 non-null    object \n",
            " 9   Fare         891 non-null    float64\n",
            " 10  Cabin        204 non-null    object \n",
            " 11  Embarked     889 non-null    object \n",
            "dtypes: float64(2), int64(5), object(5)\n",
            "memory usage: 83.7+ KB\n",
            "None\n",
            "\n",
            "생존률: 38.38%\n"
          ]
        }
      ],
      "source": [
        "# 데이터 로드\n",
        "print(\"1. 데이터 로드 중...\")\n",
        "\n",
        "# 타이타닉 데이터셋 URL\n",
        "url = \"https://raw.githubusercontent.com/datasciencedojo/datasets/master/titanic.csv\"\n",
        "\n",
        "try:\n",
        "    # 데이터 로드\n",
        "    df = pd.read_csv(url)\n",
        "    print(f\"데이터 로드 완료! 데이터 크기: {df.shape}\")\n",
        "    print(f\"컬럼: {list(df.columns)}\")\n",
        "    \n",
        "    # 기본 정보 출력\n",
        "    print(\"\\n데이터 미리보기:\")\n",
        "    print(df.head())\n",
        "    print(\"\\n데이터 정보:\")\n",
        "    print(df.info())\n",
        "    print(f\"\\n생존률: {df['Survived'].mean():.2%}\")\n",
        "    \n",
        "except Exception as e:\n",
        "    print(f\"데이터 로드 실패: {e}\")\n",
        "    # 백업: 간단한 합성 데이터 생성\n",
        "    print(\"합성 데이터를 생성합니다...\")\n",
        "    np.random.seed(42)\n",
        "    n_samples = 800\n",
        "    df = pd.DataFrame({\n",
        "        'Age': np.random.normal(30, 12, n_samples),\n",
        "        'Fare': np.random.exponential(20, n_samples),\n",
        "        'Pclass': np.random.choice([1, 2, 3], n_samples, p=[0.2, 0.3, 0.5]),\n",
        "        'Sex_male': np.random.choice([0, 1], n_samples),\n",
        "        'Survived': np.random.choice([0, 1], n_samples, p=[0.6, 0.4])\n",
        "    })\n"
      ]
    },
    {
      "cell_type": "code",
      "execution_count": 10,
      "metadata": {},
      "outputs": [
        {
          "name": "stdout",
          "output_type": "stream",
          "text": [
            "\n",
            "2. 데이터 전처리...\n",
            "사용 가능한 피처: ['Pclass', 'Sex_male', 'Age', 'Fare']\n",
            "입력 데이터 형태: (891, 4)\n",
            "타겟 데이터 형태: (891,)\n"
          ]
        },
        {
          "name": "stderr",
          "output_type": "stream",
          "text": [
            "/var/folders/hw/9m3g7fvn4_l3rp2y473km9sm0000gn/T/ipykernel_68910/2299287526.py:18: FutureWarning: A value is trying to be set on a copy of a DataFrame or Series through chained assignment using an inplace method.\n",
            "The behavior will change in pandas 3.0. This inplace method will never work because the intermediate object on which we are setting values always behaves as a copy.\n",
            "\n",
            "For example, when doing 'df[col].method(value, inplace=True)', try using 'df.method({col: value}, inplace=True)' or df[col] = df[col].method(value) instead, to perform the operation inplace on the original object.\n",
            "\n",
            "\n",
            "  df[feature].fillna(df[feature].median(), inplace=True)\n"
          ]
        }
      ],
      "source": [
        "# 데이터 전처리\n",
        "print(\"\\n2. 데이터 전처리...\")\n",
        "\n",
        "# 필요한 피처 선택 및 전처리\n",
        "if 'Sex' in df.columns:\n",
        "    # 성별을 숫자로 변환 (male=1, female=0)\n",
        "    df['Sex_male'] = (df['Sex'] == 'male').astype(int)\n",
        "\n",
        "# 사용할 피처 선택\n",
        "features = ['Pclass', 'Sex_male', 'Age', 'Fare']\n",
        "available_features = [f for f in features if f in df.columns]\n",
        "\n",
        "print(f\"사용 가능한 피처: {available_features}\")\n",
        "\n",
        "# 결측값 처리\n",
        "for feature in available_features:\n",
        "    if df[feature].isnull().sum() > 0:\n",
        "        df[feature].fillna(df[feature].median(), inplace=True)\n",
        "\n",
        "# 특성과 타겟 분리\n",
        "X = df[available_features].values\n",
        "y = df['Survived'].values\n",
        "\n",
        "print(f\"입력 데이터 형태: {X.shape}\")\n",
        "print(f\"타겟 데이터 형태: {y.shape}\")\n"
      ]
    },
    {
      "cell_type": "code",
      "execution_count": 11,
      "metadata": {},
      "outputs": [
        {
          "name": "stdout",
          "output_type": "stream",
          "text": [
            "훈련 데이터: torch.Size([712, 4])\n",
            "테스트 데이터: torch.Size([179, 4])\n"
          ]
        }
      ],
      "source": [
        "# 데이터 분할 및 정규화\n",
        "# 데이터 분할\n",
        "X_train, X_test, y_train, y_test = train_test_split(\n",
        "    X, y, test_size=0.2, random_state=42, stratify=y\n",
        ")\n",
        "\n",
        "# 특성 정규화\n",
        "scaler = StandardScaler()\n",
        "X_train_scaled = scaler.fit_transform(X_train)\n",
        "X_test_scaled = scaler.transform(X_test)\n",
        "\n",
        "# PyTorch 텐서로 변환\n",
        "X_train_tensor = torch.FloatTensor(X_train_scaled)\n",
        "X_test_tensor = torch.FloatTensor(X_test_scaled)\n",
        "y_train_tensor = torch.FloatTensor(y_train)\n",
        "y_test_tensor = torch.FloatTensor(y_test)\n",
        "\n",
        "print(f\"훈련 데이터: {X_train_tensor.shape}\")\n",
        "print(f\"테스트 데이터: {X_test_tensor.shape}\")\n"
      ]
    },
    {
      "cell_type": "raw",
      "metadata": {
        "vscode": {
          "languageId": "raw"
        }
      },
      "source": [
        "## 2. 로지스틱 회귀 모델 정의\n",
        "\n",
        "PyTorch를 사용하여 로지스틱 회귀 모델을 정의합니다.\n"
      ]
    },
    {
      "cell_type": "code",
      "execution_count": 12,
      "metadata": {},
      "outputs": [
        {
          "name": "stdout",
          "output_type": "stream",
          "text": [
            "3. 로지스틱 회귀 모델 정의...\n",
            "모델 구조:\n",
            "LogisticRegression(\n",
            "  (linear): Linear(in_features=4, out_features=1, bias=True)\n",
            "  (sigmoid): Sigmoid()\n",
            ")\n",
            "\n",
            "모델 파라미터:\n",
            "linear.weight: torch.Size([1, 4])\n",
            "linear.bias: torch.Size([1])\n",
            "\n",
            "디바이스: mps\n",
            "텐서 디바이스: mps:0\n"
          ]
        }
      ],
      "source": [
        "print(\"3. 로지스틱 회귀 모델 정의...\")\n",
        "\n",
        "class LogisticRegression(nn.Module):\n",
        "    \"\"\"\n",
        "    간단한 로지스틱 회귀 모델\n",
        "    \n",
        "    로지스틱 회귀는 선형 결합 후 시그모이드 함수를 적용하여\n",
        "    이진 분류를 수행하는 모델입니다.\n",
        "    \"\"\"\n",
        "    \n",
        "    def __init__(self, input_size):\n",
        "        super(LogisticRegression, self).__init__()\n",
        "        # 선형 레이어: 입력 특성들을 하나의 값으로 변환\n",
        "        self.linear = nn.Linear(input_size, 1)\n",
        "        # 시그모이드 함수: 0과 1 사이의 확률값으로 변환\n",
        "        self.sigmoid = nn.Sigmoid()\n",
        "\n",
        "        # --- 파라미터 초기화 (Parameter Initialization) ---\n",
        "        # 신경망의 가중치와 편향을 적절히 초기화하는 것은 학습 안정성과 수렴 속도에 중요합니다.\n",
        "        # 잘못된 초기화는 기울기 소실(vanishing gradients)이나 폭주(exploding gradients) 문제를 야기할 수 있습니다.\n",
        "        #\n",
        "        # PyTorch의 `nn.Linear`는 기본적으로 Kaiming He 초기화(ReLU와 함께 사용 시 적합)나 Xavier/Glorot 초기화(Sigmoid/Tanh와 함께 사용 시 적합)를 사용합니다.\n",
        "        # 여기서는 명시적으로 Xavier Uniform 초기화를 적용하여 선형 레이어의 가중치를 초기화합니다.\n",
        "        # 이는 Sigmoid 활성화 함수와 잘 어울립니다. 편향은 0으로 초기화합니다.\n",
        "        nn.init.xavier_uniform_(self.linear.weight)\n",
        "        if self.linear.bias is not None:\n",
        "            nn.init.zeros_(self.linear.bias)\n",
        "        # --------------------------------------------------\n",
        "    \n",
        "    def forward(self, x):\n",
        "        # 선형 변환 후 시그모이드 적용\n",
        "        out = self.linear(x)\n",
        "        out = self.sigmoid(out)\n",
        "        return out\n",
        "\n",
        "# 모델 인스턴스 생성\n",
        "input_size = X_train_tensor.shape[1]\n",
        "model = LogisticRegression(input_size)\n",
        "\n",
        "# GPU 사용 가능 시 디바이스 설정\n",
        "# MPS (Metal Performance Shaders)는 Apple Silicon Mac에서 GPU 가속을 제공합니다.\n",
        "# 이 코드는 MPS를 사용할 수 있다면 'mps' 디바이스를, 그렇지 않다면 'cpu' 디바이스를 선택합니다.\n",
        "device = torch.device('mps' if torch.backends.mps.is_available() else 'cpu')\n",
        "model.to(device)\n",
        "\n",
        "# 텐서들을 모델과 같은 디바이스로 이동\n",
        "X_train_tensor = X_train_tensor.to(device)\n",
        "X_test_tensor = X_test_tensor.to(device)\n",
        "y_train_tensor = y_train_tensor.to(device)\n",
        "y_test_tensor = y_test_tensor.to(device)\n",
        "\n",
        "print(f\"모델 구조:\")\n",
        "print(model)\n",
        "print(f\"\\n모델 파라미터:\")\n",
        "for name, param in model.named_parameters():\n",
        "    print(f\"{name}: {param.shape}\")\n",
        "print(f\"\\n디바이스: {device}\")\n",
        "print(f\"텐서 디바이스: {X_train_tensor.device}\")\n"
      ]
    },
    {
      "cell_type": "raw",
      "metadata": {
        "vscode": {
          "languageId": "raw"
        }
      },
      "source": [
        "### 🔍 모델 구조 상세 설명\n",
        "\n",
        "위에서 정의한 `LogisticRegression` 클래스의 핵심 구성 요소들을 살펴보겠습니다:\n",
        "\n",
        "#### `nn.Linear` (선형 레이어)\n",
        "- 입력 특성들을 하나의 출력 값으로 변환하는 선형 레이어입니다.\n",
        "- `input_size`개의 입력 뉴런과 1개의 출력 뉴런을 가집니다.\n",
        "- 수학적으로 `y = xW^T + b` 형태의 선형 변환을 수행합니다.\n",
        "\n",
        "#### `nn.Sigmoid` (시그모이드 활성화 함수)\n",
        "- 선형 레이어의 출력을 0과 1 사이의 확률 값으로 변환합니다.\n",
        "- 이진 분류 문제에서 클래스에 속할 확률을 나타내기 위해 사용됩니다.\n",
        "- S자 형태의 곡선으로 부드러운 결정 경계를 형성합니다.\n",
        "\n",
        "#### 파라미터 초기화 (Xavier Uniform)\n",
        "- 신경망의 가중치와 편향을 적절히 초기화하는 것은 학습 안정성과 수렴 속도에 중요합니다.\n",
        "- `Xavier Uniform` 초기화는 Sigmoid/Tanh 활성화 함수와 함께 사용될 때 효과적입니다.\n",
        "- 기울기 소실(vanishing gradients)이나 폭주(exploding gradients) 문제를 완화합니다.\n"
      ]
    },
    {
      "cell_type": "raw",
      "metadata": {
        "vscode": {
          "languageId": "raw"
        }
      },
      "source": [
        "## 3. 모델 훈련 설정\n",
        "\n",
        "손실 함수, 옵티마이저 등 훈련에 필요한 설정을 정의합니다.\n"
      ]
    },
    {
      "cell_type": "code",
      "execution_count": 13,
      "metadata": {},
      "outputs": [
        {
          "name": "stdout",
          "output_type": "stream",
          "text": [
            "4. 모델 훈련 설정...\n",
            "훈련 설정:\n",
            "- 에포크 수: 1000\n",
            "- 학습률: 0.01\n",
            "- 손실 함수: BCELoss\n",
            "- 옵티마이저: Adam\n",
            "- L2 정규화 (Weight Decay): 0.001\n"
          ]
        }
      ],
      "source": [
        "print(\"4. 모델 훈련 설정...\")\n",
        "\n",
        "# 손실 함수: 이진 교차 엔트로피 (Binary Cross Entropy)\n",
        "criterion = nn.BCELoss()\n",
        "\n",
        "# 옵티마이저: Adam\n",
        "# `weight_decay` (L2 정규화): 과적합(overfitting)을 방지하는 정규화 기법 중 하나입니다.\n",
        "# L2 정규화는 모델의 가중치(weights)가 너무 커지는 것을 제어하여 모델의 복잡도를 줄입니다.\n",
        "# 손실 함수에 가중치 제곱합의 일정 비율을 더함으로써 큰 가중치에 패널티를 부여합니다.\n",
        "# `weight_decay=0.001`은 이 패널티의 강도를 조절하는 하이퍼파라미터입니다.\n",
        "optimizer = optim.Adam(model.parameters(), lr=0.01, weight_decay=0.001)\n",
        "\n",
        "# 훈련 설정\n",
        "num_epochs = 1000\n",
        "losses = []\n",
        "\n",
        "print(f\"훈련 설정:\")\n",
        "print(f\"- 에포크 수: {num_epochs}\")\n",
        "print(f\"- 학습률: {optimizer.param_groups[0]['lr']}\")\n",
        "print(f\"- 손실 함수: {criterion.__class__.__name__}\")\n",
        "print(f\"- 옵티마이저: {optimizer.__class__.__name__}\")\n",
        "print(f\"- L2 정규화 (Weight Decay): {optimizer.param_groups[0].get('weight_decay', 'N/A')}\")\n"
      ]
    },
    {
      "cell_type": "raw",
      "metadata": {
        "vscode": {
          "languageId": "raw"
        }
      },
      "source": [
        "### 🔧 훈련 설정 상세 설명\n",
        "\n",
        "#### 손실 함수 (`nn.BCELoss`)\n",
        "- **Binary Cross Entropy Loss**: 이진 분류의 예측 확률과 실제 레이블 간의 차이를 정량화\n",
        "- 수식: `BCE = -[y*log(p) + (1-y)*log(1-p)]`\n",
        "- 모델이 학습할 목표를 제공하며, 이 값을 최소화하는 방향으로 학습이 진행됩니다.\n",
        "\n",
        "#### 옵티마이저 (`optim.Adam`)\n",
        "- Adam은 현재 가장 효과적인 최적화 알고리즘 중 하나입니다.\n",
        "- `lr=0.01`: 학습률(learning rate) - 각 업데이트 단계에서 파라미터가 얼마나 크게 변경될지 결정\n",
        "- 적응적 학습률을 사용하여 각 파라미터에 대해 개별적으로 학습률을 조정합니다.\n",
        "\n",
        "#### L2 정규화 (Weight Decay)\n",
        "- `weight_decay=0.001`: 과적합(overfitting)을 방지하는 정규화 기법\n",
        "- 손실 함수에 가중치 제곱합의 일정 비율을 더함으로써 큰 가중치에 패널티를 부여\n",
        "- 모델의 복잡도를 제어하여 일반화 성능을 향상시킵니다.\n"
      ]
    },
    {
      "cell_type": "raw",
      "metadata": {
        "vscode": {
          "languageId": "raw"
        }
      },
      "source": [
        "## 4. 모델 훈련 (피팅)\n",
        "\n",
        "실제로 모델을 훈련시킵니다.\n"
      ]
    },
    {
      "cell_type": "code",
      "execution_count": 14,
      "metadata": {},
      "outputs": [
        {
          "name": "stdout",
          "output_type": "stream",
          "text": [
            "5. 모델 훈련 시작...\n",
            "에포크 [100/1000], 손실: 0.4718\n",
            "에포크 [200/1000], 손실: 0.4500\n",
            "에포크 [300/1000], 손실: 0.4464\n",
            "에포크 [400/1000], 손실: 0.4460\n",
            "에포크 [500/1000], 손실: 0.4459\n",
            "에포크 [600/1000], 손실: 0.4459\n",
            "에포크 [700/1000], 손실: 0.4459\n",
            "에포크 [800/1000], 손실: 0.4459\n",
            "에포크 [900/1000], 손실: 0.4459\n",
            "에포크 [1000/1000], 손실: 0.4459\n",
            "훈련 완료!\n"
          ]
        }
      ],
      "source": [
        "print(\"5. 모델 훈련 시작...\")\n",
        "\n",
        "model.train()  # 훈련 모드 설정\n",
        "\n",
        "for epoch in range(num_epochs):\n",
        "    # 순전파 (Forward pass)\n",
        "    outputs = model(X_train_tensor)\n",
        "    loss = criterion(outputs.squeeze(), y_train_tensor)\n",
        "    \n",
        "    # 역전파 (Backward pass)\n",
        "    optimizer.zero_grad()  # 기울기 초기화\n",
        "    loss.backward()        # 기울기 계산\n",
        "    optimizer.step()       # 파라미터 업데이트\n",
        "    \n",
        "    # 손실 기록\n",
        "    losses.append(loss.item())\n",
        "    \n",
        "    # 진행 상황 출력\n",
        "    if (epoch + 1) % 100 == 0:\n",
        "        print(f'에포크 [{epoch+1}/{num_epochs}], 손실: {loss.item():.4f}')\n",
        "\n",
        "print(\"훈련 완료!\")\n"
      ]
    },
    {
      "cell_type": "raw",
      "metadata": {
        "vscode": {
          "languageId": "raw"
        }
      },
      "source": [
        "### ⚙️ 훈련 루프의 핵심 단계\n",
        "\n",
        "위 훈련 코드에서 각 에포크마다 수행되는 5가지 핵심 단계를 설명합니다:\n",
        "\n",
        "1. **순전파 (Forward Pass)**\n",
        "   - 훈련 데이터를 모델에 입력하여 예측값을 얻습니다.\n",
        "   - `outputs = model(X_train_tensor)`\n",
        "\n",
        "2. **손실 계산**\n",
        "   - 예측값과 실제 타겟 값 사이의 차이(손실)를 계산합니다.\n",
        "   - `loss = criterion(outputs.squeeze(), y_train_tensor)`\n",
        "\n",
        "3. **기울기 초기화**\n",
        "   - 이전 에포크에서 계산된 기울기를 0으로 초기화합니다.\n",
        "   - PyTorch는 기본적으로 기울기를 누적하므로 매 에포크마다 초기화가 필요합니다.\n",
        "   - `optimizer.zero_grad()`\n",
        "\n",
        "4. **역전파 (Backward Pass)**\n",
        "   - 현재 손실에 대한 모델 파라미터들의 기울기를 계산합니다.\n",
        "   - 각 파라미터가 손실에 얼마나 기여하는지 나타냅니다.\n",
        "   - `loss.backward()`\n",
        "\n",
        "5. **파라미터 업데이트**\n",
        "   - 계산된 기울기를 사용하여 모델의 파라미터(가중치와 편향)를 업데이트합니다.\n",
        "   - 이 단계에서 모델이 실제로 학습됩니다.\n",
        "   - `optimizer.step()`\n"
      ]
    },
    {
      "cell_type": "raw",
      "metadata": {
        "vscode": {
          "languageId": "raw"
        }
      },
      "source": [
        "## 5. 모델 평가 및 추론\n",
        "\n",
        "훈련된 모델의 성능을 평가합니다.\n"
      ]
    },
    {
      "cell_type": "code",
      "execution_count": 16,
      "metadata": {},
      "outputs": [
        {
          "name": "stdout",
          "output_type": "stream",
          "text": [
            "6. 모델 평가...\n",
            "훈련 정확도: 0.8006\n",
            "테스트 정확도: 0.7933\n",
            "\n",
            "분류 보고서:\n",
            "              precision    recall  f1-score   support\n",
            "\n",
            "         0.0       0.82      0.85      0.84       110\n",
            "         1.0       0.75      0.70      0.72        69\n",
            "\n",
            "    accuracy                           0.79       179\n",
            "   macro avg       0.78      0.78      0.78       179\n",
            "weighted avg       0.79      0.79      0.79       179\n",
            "\n"
          ]
        }
      ],
      "source": [
        "print(\"6. 모델 평가...\")\n",
        "\n",
        "model.eval()  # 평가 모드 설정\n",
        "\n",
        "with torch.no_grad():  # 기울기 계산 비활성화\n",
        "    # 훈련 데이터 예측\n",
        "    train_outputs = model(X_train_tensor)\n",
        "    train_predictions = (train_outputs.squeeze() > 0.5).float()\n",
        "    train_accuracy = accuracy_score(y_train_tensor.cpu().numpy(), train_predictions.cpu().numpy())\n",
        "    \n",
        "    # 테스트 데이터 예측\n",
        "    test_outputs = model(X_test_tensor)\n",
        "    test_predictions = (test_outputs.squeeze() > 0.5).float()\n",
        "    test_accuracy = accuracy_score(y_test_tensor.cpu().numpy(), test_predictions.cpu().numpy())\n",
        "\n",
        "print(f\"훈련 정확도: {train_accuracy:.4f}\")\n",
        "print(f\"테스트 정확도: {test_accuracy:.4f}\")\n",
        "\n",
        "# 분류 보고서\n",
        "print(f\"\\n분류 보고서:\")\n",
        "print(classification_report(y_test_tensor.cpu().numpy(), test_predictions.cpu().numpy()))\n"
      ]
    },
    {
      "cell_type": "raw",
      "metadata": {
        "vscode": {
          "languageId": "raw"
        }
      },
      "source": [
        "### 📊 모델 추론 (평가 및 예측) 설명\n",
        "\n",
        "#### `model.eval()`\n",
        "- 모델을 평가 모드로 전환합니다.\n",
        "- 훈련 중에만 활성화되는 계층(예: `Dropout`, `BatchNorm`)을 비활성화합니다.\n",
        "- 평가 시 일관된 결과를 보장합니다.\n",
        "\n",
        "#### `torch.no_grad()`\n",
        "- 이 컨텍스트 매니저 안에서는 PyTorch가 기울기를 계산하고 저장하는 것을 비활성화합니다.\n",
        "- 추론 단계에서 메모리 사용량을 줄이고 계산 속도를 높입니다.\n",
        "- 평가 단계에서는 파라미터 업데이트가 필요 없으므로 기울기 계산이 불필요합니다.\n",
        "\n",
        "#### 임계값 기반 예측\n",
        "- 모델의 출력(확률)을 0.5와 같은 임계값과 비교하여 최종 이진 예측(0 또는 1)을 결정합니다.\n",
        "- `(outputs.squeeze() > 0.5).float()`: 0.5보다 크면 1(생존), 아니면 0(사망)\n",
        "\n",
        "#### 성능 평가\n",
        "- `accuracy_score`를 사용하여 실제 레이블과 모델의 예측 결과를 비교\n",
        "- **훈련 정확도**: 훈련 데이터에 대한 정확도 (과적합 여부 확인용)\n",
        "- **테스트 정확도**: 모델의 일반화 성능을 나타내는 가장 중요한 지표\n"
      ]
    },
    {
      "cell_type": "code",
      "execution_count": 17,
      "metadata": {},
      "outputs": [
        {
          "name": "stderr",
          "output_type": "stream",
          "text": [
            "/Users/jaesolshin/Documents/GitHub/pytorch_learn/.venv/lib/python3.12/site-packages/IPython/core/pylabtools.py:170: UserWarning: Glyph 49552 (\\N{HANGUL SYLLABLE SON}) missing from font(s) DejaVu Sans.\n",
            "  fig.canvas.print_figure(bytes_io, **kw)\n",
            "/Users/jaesolshin/Documents/GitHub/pytorch_learn/.venv/lib/python3.12/site-packages/IPython/core/pylabtools.py:170: UserWarning: Glyph 49892 (\\N{HANGUL SYLLABLE SIL}) missing from font(s) DejaVu Sans.\n",
            "  fig.canvas.print_figure(bytes_io, **kw)\n",
            "/Users/jaesolshin/Documents/GitHub/pytorch_learn/.venv/lib/python3.12/site-packages/IPython/core/pylabtools.py:170: UserWarning: Glyph 54984 (\\N{HANGUL SYLLABLE HUN}) missing from font(s) DejaVu Sans.\n",
            "  fig.canvas.print_figure(bytes_io, **kw)\n",
            "/Users/jaesolshin/Documents/GitHub/pytorch_learn/.venv/lib/python3.12/site-packages/IPython/core/pylabtools.py:170: UserWarning: Glyph 47144 (\\N{HANGUL SYLLABLE RYEON}) missing from font(s) DejaVu Sans.\n",
            "  fig.canvas.print_figure(bytes_io, **kw)\n",
            "/Users/jaesolshin/Documents/GitHub/pytorch_learn/.venv/lib/python3.12/site-packages/IPython/core/pylabtools.py:170: UserWarning: Glyph 44257 (\\N{HANGUL SYLLABLE GOG}) missing from font(s) DejaVu Sans.\n",
            "  fig.canvas.print_figure(bytes_io, **kw)\n",
            "/Users/jaesolshin/Documents/GitHub/pytorch_learn/.venv/lib/python3.12/site-packages/IPython/core/pylabtools.py:170: UserWarning: Glyph 49440 (\\N{HANGUL SYLLABLE SEON}) missing from font(s) DejaVu Sans.\n",
            "  fig.canvas.print_figure(bytes_io, **kw)\n",
            "/Users/jaesolshin/Documents/GitHub/pytorch_learn/.venv/lib/python3.12/site-packages/IPython/core/pylabtools.py:170: UserWarning: Glyph 50640 (\\N{HANGUL SYLLABLE E}) missing from font(s) DejaVu Sans.\n",
            "  fig.canvas.print_figure(bytes_io, **kw)\n",
            "/Users/jaesolshin/Documents/GitHub/pytorch_learn/.venv/lib/python3.12/site-packages/IPython/core/pylabtools.py:170: UserWarning: Glyph 54252 (\\N{HANGUL SYLLABLE PO}) missing from font(s) DejaVu Sans.\n",
            "  fig.canvas.print_figure(bytes_io, **kw)\n",
            "/Users/jaesolshin/Documents/GitHub/pytorch_learn/.venv/lib/python3.12/site-packages/IPython/core/pylabtools.py:170: UserWarning: Glyph 53356 (\\N{HANGUL SYLLABLE KEU}) missing from font(s) DejaVu Sans.\n",
            "  fig.canvas.print_figure(bytes_io, **kw)\n"
          ]
        },
        {
          "data": {
            "image/png": "[encoded data removed]",
            "text/plain": [
              "<Figure size 1000x600 with 1 Axes>"
            ]
          },
          "metadata": {},
          "output_type": "display_data"
        },
        {
          "name": "stdout",
          "output_type": "stream",
          "text": [
            "\n",
            "예측 확률 샘플:\n",
            "실제 값 | 예측 확률 | 예측 값\n",
            "------------------------------\n",
            "   0    |   0.101    |    0\n",
            "   0    |   0.053    |    0\n",
            "   1    |   0.105    |    0\n",
            "   0    |   0.058    |    0\n",
            "   1    |   0.566    |    1\n",
            "   1    |   0.499    |    0\n",
            "   1    |   0.757    |    1\n",
            "   0    |   0.352    |    0\n",
            "   0    |   0.343    |    0\n",
            "   0    |   0.201    |    0\n",
            "\n",
            "모델 파라미터 (가중치):\n",
            "linear.weight: tensor([-0.9547, -1.2459, -0.4430,  0.0538], device='mps:0')\n",
            "linear.bias: -0.6504554748535156\n"
          ]
        }
      ],
      "source": [
        "# 손실 곡선 시각화\n",
        "plt.figure(figsize=(10, 6))\n",
        "plt.plot(losses)\n",
        "plt.title('훈련 손실 곡선')\n",
        "plt.xlabel('에포크')\n",
        "plt.ylabel('손실 (Loss)')\n",
        "plt.grid(True)\n",
        "plt.show()\n",
        "\n",
        "# 몇 개 샘플에 대한 예측 확률 출력\n",
        "print(\"\\n예측 확률 샘플:\")\n",
        "print(\"실제 값 | 예측 확률 | 예측 값\")\n",
        "print(\"-\" * 30)\n",
        "for i in range(10):\n",
        "    actual = int(y_test_tensor[i].cpu().item())\n",
        "    prob = test_outputs[i].cpu().item()\n",
        "    predicted = int(test_predictions[i].cpu().item())\n",
        "    print(f\"   {actual}    |   {prob:.3f}    |    {predicted}\")\n",
        "\n",
        "print(f\"\\n모델 파라미터 (가중치):\")\n",
        "for name, param in model.named_parameters():\n",
        "    print(f\"{name}: {param.data.squeeze()}\")\n"
      ]
    },
    {
      "cell_type": "raw",
      "metadata": {
        "vscode": {
          "languageId": "raw"
        }
      },
      "source": [
        "---\n",
        "\n",
        "## 💡 핵심 개념 요약\n",
        "\n",
        "### 로지스틱 회귀의 수학적 기초\n",
        "로지스틱 회귀는 다음과 같은 수식으로 표현됩니다:\n",
        "\n",
        "1. **선형 결합**: `z = w₁x₁ + w₂x₂ + ... + wₙxₙ + b`\n",
        "2. **시그모이드 함수**: `p = 1 / (1 + e^(-z))`\n",
        "3. **예측**: `ŷ = 1 if p > 0.5 else 0`\n",
        "\n",
        "### 왜 시그모이드 함수를 사용하는가?\n",
        "- 출력 값을 0과 1 사이로 제한하여 확률로 해석 가능\n",
        "- 미분 가능하여 역전파 알고리즘 적용 가능\n",
        "- S자 형태의 곡선으로 부드러운 결정 경계 형성\n",
        "\n",
        "### Binary Cross Entropy Loss\n",
        "```\n",
        "BCE = -[y*log(p) + (1-y)*log(1-p)]\n",
        "```\n",
        "- `y`: 실제 레이블 (0 또는 1)\n",
        "- `p`: 모델이 예측한 확률\n",
        "- 예측 확률이 실제 레이블에 가까울수록 손실이 작아짐\n",
        "\n",
        "### 과적합 방지 전략\n",
        "1. **L2 정규화 (Weight Decay)**: 가중치의 크기를 제한\n",
        "2. **조기 종료 (Early Stopping)**: 검증 손실이 증가하기 시작할 때 훈련 중단\n",
        "3. **교차 검증 (Cross Validation)**: 데이터를 여러 번 나누어 검증\n",
        "\n",
        "### 다음 단계로 확장할 수 있는 개념들\n",
        "- **다중 클래스 분류**: Softmax 함수와 Cross Entropy Loss 사용\n",
        "- **신경망**: 은닉층 추가하여 비선형 패턴 학습\n",
        "- **정규화 기법**: Dropout, Batch Normalization 등\n",
        "- **고급 옵티마이저**: AdamW, RAdam 등\n"
      ]
    }
  ],
  "metadata": {
    "kernelspec": {
      "display_name": ".venv",
      "language": "python",
      "name": "python3"
    },
    "language_info": {
      "codemirror_mode": {
        "name": "ipython",
        "version": 3
      },
      "file_extension": ".py",
      "mimetype": "text/x-python",
      "name": "python",
      "nbconvert_exporter": "python",
      "pygments_lexer": "ipython3",
      "version": "3.12.3"
    }
  },
  "nbformat": 4,
  "nbformat_minor": 2
}
